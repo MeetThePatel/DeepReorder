{
 "cells": [
  {
   "cell_type": "code",
   "id": "initial_id",
   "metadata": {
    "collapsed": true,
    "ExecuteTime": {
     "end_time": "2025-02-03T01:22:23.509340Z",
     "start_time": "2025-02-03T01:22:23.506717Z"
    }
   },
   "source": [
    "import torch\n",
    "\n",
    "import matplotlib.pyplot as plt\n",
    "import seaborn as sns\n",
    "\n",
    "from transformers import AutoTokenizer, AutoModelForCausalLM\n",
    "from transformers.models.qwen2.modular_qwen2 import Qwen2Attention, Qwen2DecoderLayer\n",
    "from transformers.models.qwen2.modeling_qwen2 import Qwen2ForCausalLM"
   ],
   "outputs": [],
   "execution_count": 11
  },
  {
   "metadata": {
    "ExecuteTime": {
     "end_time": "2025-02-03T01:21:08.394957Z",
     "start_time": "2025-02-03T01:21:08.393275Z"
    }
   },
   "cell_type": "code",
   "source": "DEVICE = 'mps'",
   "id": "1fbe42321709600",
   "outputs": [],
   "execution_count": 2
  },
  {
   "metadata": {
    "ExecuteTime": {
     "end_time": "2025-02-03T01:21:17.231764Z",
     "start_time": "2025-02-03T01:21:08.406617Z"
    }
   },
   "cell_type": "code",
   "source": [
    "model = AutoModelForCausalLM.from_pretrained(\"Qwen/Qwen2.5-3B\", torch_dtype='bfloat16', device_map=\"auto\")\n",
    "tokenizer = AutoTokenizer.from_pretrained('Qwen/Qwen2.5-3B')"
   ],
   "id": "92c50f8ba456fb0e",
   "outputs": [
    {
     "data": {
      "text/plain": [
       "Loading checkpoint shards:   0%|          | 0/2 [00:00<?, ?it/s]"
      ],
      "application/vnd.jupyter.widget-view+json": {
       "version_major": 2,
       "version_minor": 0,
       "model_id": "5c72374644c140a885062d36574ead8d"
      }
     },
     "metadata": {},
     "output_type": "display_data"
    }
   ],
   "execution_count": 3
  },
  {
   "metadata": {
    "ExecuteTime": {
     "end_time": "2025-02-03T01:22:28.101158Z",
     "start_time": "2025-02-03T01:22:28.098798Z"
    }
   },
   "cell_type": "code",
   "source": "model: Qwen2ForCausalLM",
   "id": "fd603efb1d03b7fe",
   "outputs": [],
   "execution_count": 12
  },
  {
   "metadata": {
    "ExecuteTime": {
     "end_time": "2025-02-03T01:23:46.445344Z",
     "start_time": "2025-02-03T01:23:46.439900Z"
    }
   },
   "cell_type": "code",
   "source": [
    "for idx, layer in model.model.layers.named_children():\n",
    "\tprint(idx, layer.__class__.__name__)"
   ],
   "id": "a08d221d59435755",
   "outputs": [
    {
     "name": "stdout",
     "output_type": "stream",
     "text": [
      "0 Qwen2DecoderLayer\n",
      "1 Qwen2DecoderLayer\n",
      "2 Qwen2DecoderLayer\n",
      "3 Qwen2DecoderLayer\n",
      "4 Qwen2DecoderLayer\n",
      "5 Qwen2DecoderLayer\n",
      "6 Qwen2DecoderLayer\n",
      "7 Qwen2DecoderLayer\n",
      "8 Qwen2DecoderLayer\n",
      "9 Qwen2DecoderLayer\n",
      "10 Qwen2DecoderLayer\n",
      "11 Qwen2DecoderLayer\n",
      "12 Qwen2DecoderLayer\n",
      "13 Qwen2DecoderLayer\n",
      "14 Qwen2DecoderLayer\n",
      "15 Qwen2DecoderLayer\n",
      "16 Qwen2DecoderLayer\n",
      "17 Qwen2DecoderLayer\n",
      "18 Qwen2DecoderLayer\n",
      "19 Qwen2DecoderLayer\n",
      "20 Qwen2DecoderLayer\n",
      "21 Qwen2DecoderLayer\n",
      "22 Qwen2DecoderLayer\n",
      "23 Qwen2DecoderLayer\n",
      "24 Qwen2DecoderLayer\n",
      "25 Qwen2DecoderLayer\n",
      "26 Qwen2DecoderLayer\n",
      "27 Qwen2DecoderLayer\n",
      "28 Qwen2DecoderLayer\n",
      "29 Qwen2DecoderLayer\n",
      "30 Qwen2DecoderLayer\n",
      "31 Qwen2DecoderLayer\n",
      "32 Qwen2DecoderLayer\n",
      "33 Qwen2DecoderLayer\n",
      "34 Qwen2DecoderLayer\n",
      "35 Qwen2DecoderLayer\n"
     ]
    }
   ],
   "execution_count": 19
  },
  {
   "metadata": {},
   "cell_type": "code",
   "outputs": [],
   "execution_count": null,
   "source": "",
   "id": "8cd13d3106928451"
  },
  {
   "metadata": {
    "ExecuteTime": {
     "end_time": "2025-02-03T00:36:11.529338Z",
     "start_time": "2025-02-03T00:36:11.463074Z"
    }
   },
   "cell_type": "code",
   "source": [
    "from deep_reorder.deep_reorder import register_buffers\n",
    "\n",
    "register_buffers(model.model)"
   ],
   "id": "aa7fe25dfdd0bb6d",
   "outputs": [],
   "execution_count": 4
  },
  {
   "metadata": {
    "ExecuteTime": {
     "end_time": "2025-02-03T00:36:11.545454Z",
     "start_time": "2025-02-03T00:36:11.542535Z"
    }
   },
   "cell_type": "code",
   "source": [
    "activation_dict = {}\n",
    "from deep_reorder.deep_reorder import save_activation_hook\n",
    "\n",
    "\n",
    "def get_activation(name):\n",
    "\tdef hook(model, input, output):\n",
    "\t\tif name not in activation_dict.keys():\n",
    "\t\t\tb, l, d = output[0].shape\n",
    "\t\t\tactivation_dict[name] = torch.zeros((b, 1, d), dtype=output[0].dtype, device=output[0].device,\n",
    "\t\t\t                                    requires_grad=False)\n",
    "\t\telse:\n",
    "\t\t\tactivation_dict[name] = torch.hstack([activation_dict[name], output[0]])\n",
    "\n",
    "\treturn hook\n",
    "\n",
    "\n",
    "for i, layer in enumerate(model.model.layers):\n",
    "\tlayer.register_forward_hook(save_activation_hook(f\"decoder_layer_{i}\"))"
   ],
   "id": "a351798ba4b97487",
   "outputs": [],
   "execution_count": 5
  },
  {
   "metadata": {
    "ExecuteTime": {
     "end_time": "2025-02-03T00:36:11.582572Z",
     "start_time": "2025-02-03T00:36:11.580801Z"
    }
   },
   "cell_type": "code",
   "source": "prompt = \"Write the most optimized Python code for generating the first 100 fibbonacci numbers.\"",
   "id": "4ad393591adf9011",
   "outputs": [],
   "execution_count": 6
  },
  {
   "metadata": {
    "ExecuteTime": {
     "end_time": "2025-02-03T00:36:11.597016Z",
     "start_time": "2025-02-03T00:36:11.587546Z"
    }
   },
   "cell_type": "code",
   "source": [
    "# IF USING CHAT TEMPLATE\n",
    "#     messages = [{\"role\": \"user\", \"content\": prompt}]\n",
    "#     text = tokenizer.apply_chat_template(messages, tokenize=False, add_generation_prompt=True)\n",
    "#     model_inputs = tokenizer([text], return_tensors=\"pt\").to(DEVICE)\n",
    "# ELSE\n",
    "model_inputs = tokenizer(prompt, padding=True, padding_side='left', return_tensors='pt').to(DEVICE)"
   ],
   "id": "8208f54d4701e481",
   "outputs": [],
   "execution_count": 7
  },
  {
   "metadata": {
    "ExecuteTime": {
     "end_time": "2025-02-03T00:36:14.259320Z",
     "start_time": "2025-02-03T00:36:11.628204Z"
    }
   },
   "cell_type": "code",
   "source": [
    "generated_ids = model.generate(model_inputs.input_ids, attention_mask=model_inputs['attention_mask'], max_new_tokens=1,\n",
    "                               do_sample=False, pad_token_id=tokenizer.pad_token_id)"
   ],
   "id": "6811712a830a80d1",
   "outputs": [],
   "execution_count": 8
  },
  {
   "metadata": {
    "ExecuteTime": {
     "end_time": "2025-02-03T00:36:19.774155Z",
     "start_time": "2025-02-03T00:36:19.291243Z"
    }
   },
   "cell_type": "code",
   "source": [
    "torch.sum(\n",
    "\tmodel.model.layers[0].activation_correlations.to(DEVICE) @ model.model.layers[0].linear_positions.to(\n",
    "\t\tDEVICE)).backward()"
   ],
   "id": "973dbb2ca2ff2410",
   "outputs": [],
   "execution_count": 10
  },
  {
   "metadata": {
    "ExecuteTime": {
     "end_time": "2025-02-03T00:36:22.259440Z",
     "start_time": "2025-02-03T00:36:22.254092Z"
    }
   },
   "cell_type": "code",
   "source": "model.model.layers[0].linear_positions.grad",
   "id": "ecfe31f7610c455d",
   "outputs": [
    {
     "data": {
      "text/plain": [
       "tensor([16.7500, -1.8203,  5.4375,  ...,  5.2812, 10.1250, -1.9609])"
      ]
     },
     "execution_count": 11,
     "metadata": {},
     "output_type": "execute_result"
    }
   ],
   "execution_count": 11
  },
  {
   "metadata": {
    "ExecuteTime": {
     "end_time": "2025-02-03T00:25:52.610200Z",
     "start_time": "2025-02-03T00:25:52.601340Z"
    }
   },
   "cell_type": "code",
   "source": "model.model.layers[0].activation_correlations",
   "id": "351f7e1885bf094e",
   "outputs": [
    {
     "data": {
      "text/plain": [
       "torch.Size([2048, 2048])"
      ]
     },
     "execution_count": 12,
     "metadata": {},
     "output_type": "execute_result"
    }
   ],
   "execution_count": 12
  },
  {
   "metadata": {
    "ExecuteTime": {
     "end_time": "2025-02-03T00:02:30.146835Z",
     "start_time": "2025-02-03T00:02:30.142141Z"
    }
   },
   "cell_type": "code",
   "source": "generated_ids = [output_ids[len(input_ids):] for input_ids, output_ids in zip(model_inputs.input_ids, generated_ids)]",
   "id": "e26d09a23dd29fe3",
   "outputs": [],
   "execution_count": 22
  },
  {
   "metadata": {
    "ExecuteTime": {
     "end_time": "2025-02-03T00:02:31.044900Z",
     "start_time": "2025-02-03T00:02:31.037500Z"
    }
   },
   "cell_type": "code",
   "source": "response = tokenizer.batch_decode(generated_ids, skip_special_tokens=True)",
   "id": "c054988069588fa8",
   "outputs": [],
   "execution_count": 23
  },
  {
   "metadata": {
    "ExecuteTime": {
     "end_time": "2025-02-03T00:02:31.891777Z",
     "start_time": "2025-02-03T00:02:31.889708Z"
    }
   },
   "cell_type": "code",
   "source": "print(response)",
   "id": "7d5baafa5df37079",
   "outputs": [
    {
     "name": "stdout",
     "output_type": "stream",
     "text": [
      "[':']\n"
     ]
    }
   ],
   "execution_count": 24
  },
  {
   "metadata": {
    "ExecuteTime": {
     "end_time": "2025-02-03T00:02:33.504929Z",
     "start_time": "2025-02-03T00:02:33.482646Z"
    }
   },
   "cell_type": "code",
   "source": "activation_dict['decoder_layer_0'].shape",
   "id": "86b6786a73df429c",
   "outputs": [
    {
     "ename": "KeyError",
     "evalue": "'decoder_layer_0'",
     "output_type": "error",
     "traceback": [
      "\u001B[0;31m---------------------------------------------------------------------------\u001B[0m",
      "\u001B[0;31mKeyError\u001B[0m                                  Traceback (most recent call last)",
      "Cell \u001B[0;32mIn[25], line 1\u001B[0m\n\u001B[0;32m----> 1\u001B[0m \u001B[43mactivation_dict\u001B[49m\u001B[43m[\u001B[49m\u001B[38;5;124;43m'\u001B[39;49m\u001B[38;5;124;43mdecoder_layer_0\u001B[39;49m\u001B[38;5;124;43m'\u001B[39;49m\u001B[43m]\u001B[49m\u001B[38;5;241m.\u001B[39mshape\n",
      "\u001B[0;31mKeyError\u001B[0m: 'decoder_layer_0'"
     ]
    }
   ],
   "execution_count": 25
  },
  {
   "metadata": {},
   "cell_type": "code",
   "source": [
    "fig, ax = plt.subplots(1, figsize=(10, 10))\n",
    "corr = activation_dict['decoder_layer_0'].squeeze(0).T.corrcoef().float().cpu()\n",
    "dist = -0.5 * corr + 0.5\n",
    "\n",
    "sns.heatmap(dist, ax=ax)"
   ],
   "id": "425e85f0beb4a262",
   "outputs": [],
   "execution_count": null
  },
  {
   "metadata": {
    "ExecuteTime": {
     "end_time": "2025-02-03T00:02:23.879129Z",
     "start_time": "2025-02-03T00:02:23.822371Z"
    }
   },
   "cell_type": "code",
   "source": [
    "batched_corrcoef = torch.func.vmap(torch.corrcoef)\n",
    "batched_corrcoef(activation_dict['decoder_layer_0'].T).shape"
   ],
   "id": "14143307770e9bef",
   "outputs": [
    {
     "ename": "KeyError",
     "evalue": "'decoder_layer_0'",
     "output_type": "error",
     "traceback": [
      "\u001B[0;31m---------------------------------------------------------------------------\u001B[0m",
      "\u001B[0;31mKeyError\u001B[0m                                  Traceback (most recent call last)",
      "Cell \u001B[0;32mIn[21], line 2\u001B[0m\n\u001B[1;32m      1\u001B[0m batched_corrcoef \u001B[38;5;241m=\u001B[39m torch\u001B[38;5;241m.\u001B[39mfunc\u001B[38;5;241m.\u001B[39mvmap(torch\u001B[38;5;241m.\u001B[39mcorrcoef)\n\u001B[0;32m----> 2\u001B[0m batched_corrcoef(\u001B[43mactivation_dict\u001B[49m\u001B[43m[\u001B[49m\u001B[38;5;124;43m'\u001B[39;49m\u001B[38;5;124;43mdecoder_layer_0\u001B[39;49m\u001B[38;5;124;43m'\u001B[39;49m\u001B[43m]\u001B[49m\u001B[38;5;241m.\u001B[39mT)\u001B[38;5;241m.\u001B[39mshape\n",
      "\u001B[0;31mKeyError\u001B[0m: 'decoder_layer_0'"
     ]
    }
   ],
   "execution_count": 21
  },
  {
   "metadata": {},
   "cell_type": "code",
   "source": "",
   "id": "6ddec11ccc0c973b",
   "outputs": [],
   "execution_count": null
  },
  {
   "metadata": {},
   "cell_type": "code",
   "source": "batched_corrcoef(torch.transpose(activation_dict['decoder_layer_0'], 1, 2)).shape",
   "id": "308487f69781f8d",
   "outputs": [],
   "execution_count": null
  },
  {
   "metadata": {},
   "cell_type": "code",
   "source": "activation_dict['decoder_layer_0'].squeeze(0).T == activation_dict['decoder_layer_0'].view(2048, -1)",
   "id": "634b67657139c1b2",
   "outputs": [],
   "execution_count": null
  },
  {
   "metadata": {},
   "cell_type": "code",
   "source": "activation_dict['decoder_layer_0'].view(2048, -1).shape",
   "id": "b9fd2230675285be",
   "outputs": [],
   "execution_count": null
  },
  {
   "metadata": {},
   "cell_type": "code",
   "source": "",
   "id": "d353f5b24a2eb261",
   "outputs": [],
   "execution_count": null
  },
  {
   "metadata": {},
   "cell_type": "code",
   "source": [
    "@torch.compile\n",
    "def compute_loss(activations: torch.Tensor, linear_positions: torch.Tensor) -> torch.Tensor:\n",
    "\tbatch_size, n, d_model = activations.shape\n",
    "\n",
    "\tpass"
   ],
   "id": "77ecb2806d69cf2d",
   "outputs": [],
   "execution_count": null
  },
  {
   "metadata": {},
   "cell_type": "code",
   "source": [
    "@torch.compile\n",
    "def construct_linear_distance_matrix(size: int) -> torch.Tensor:\n",
    "\tmat = torch.arange(size).repeat(size, 1)\n",
    "\treturn torch.abs(mat - mat.T)"
   ],
   "id": "ca66df242cdf8dc7",
   "outputs": [],
   "execution_count": null
  },
  {
   "metadata": {},
   "cell_type": "code",
   "source": "sns.heatmap(construct_linear_distance_matrix(1024))",
   "id": "d3b986ff861b09ae",
   "outputs": [],
   "execution_count": null
  },
  {
   "metadata": {},
   "cell_type": "code",
   "source": "corr",
   "id": "8b0137330e8d292b",
   "outputs": [],
   "execution_count": null
  },
  {
   "metadata": {},
   "cell_type": "code",
   "source": "positions = torch.linspace(0, 1, 2048)",
   "id": "947eccd98ec8fff7",
   "outputs": [],
   "execution_count": null
  },
  {
   "metadata": {},
   "cell_type": "code",
   "source": [
    "@torch.compile\n",
    "def create_distance_matrix(positions: torch.Tensor) -> torch.Tensor:\n",
    "\tpos_i = positions.view(-1, 1)\n",
    "\tpos_j = positions.view(1, -1)\n",
    "\treturn torch.abs(pos_i - pos_j)"
   ],
   "id": "f0c0e4925f23922e",
   "outputs": [],
   "execution_count": null
  },
  {
   "metadata": {},
   "cell_type": "code",
   "source": "",
   "id": "caaa4887d0131a75",
   "outputs": [],
   "execution_count": null
  },
  {
   "metadata": {},
   "cell_type": "code",
   "source": [
    "tmp_pos = torch.rand(16)\n",
    "sns.heatmap(create_distance_matrix(tmp_pos))"
   ],
   "id": "3061af5ab1d6ab31",
   "outputs": [],
   "execution_count": null
  },
  {
   "metadata": {},
   "cell_type": "code",
   "source": "sns.scatterplot(y=tmp_pos, x=torch.arange(0, 16))",
   "id": "55ad552885b37b3f",
   "outputs": [],
   "execution_count": null
  },
  {
   "metadata": {},
   "cell_type": "markdown",
   "source": "# Plotting",
   "id": "7df93e94e5ef48b9"
  },
  {
   "metadata": {},
   "cell_type": "code",
   "source": "",
   "id": "e65ef747797703bc",
   "outputs": [],
   "execution_count": null
  },
  {
   "metadata": {},
   "cell_type": "code",
   "source": [
    "to_merge = []\n",
    "for key in activation_dict.keys():\n",
    "\tif key == 'runs':\n",
    "\t\tcontinue\n",
    "\tto_merge.append(activation_dict[key][0].cpu().float().reshape(-1))"
   ],
   "id": "d34eec492f625ed4",
   "outputs": [],
   "execution_count": null
  },
  {
   "metadata": {},
   "cell_type": "code",
   "source": [
    "activations_tensor = torch.stack(to_merge).T\n",
    "activations_tensor = activations_tensor / activation_dict['runs']"
   ],
   "id": "739957ff49660ee7",
   "outputs": [],
   "execution_count": null
  },
  {
   "metadata": {},
   "cell_type": "code",
   "source": [
    "# TALK ABOUT THE START OF WORLD WAR 1\n",
    "fig, ax = plt.subplots(1, figsize=(10, 10))\n",
    "sns.heatmap(activations_tensor, ax=ax, cmap=sns.color_palette(\"tab20c\", 3, as_cmap=True))"
   ],
   "id": "70dcd849abca09a7",
   "outputs": [],
   "execution_count": null
  },
  {
   "metadata": {},
   "cell_type": "code",
   "source": [
    "@torch.compile\n",
    "def compute_similarity(x: torch.Tensor) -> torch.Tensor:\n",
    "\tassert x.ndim == 1, \"Tensor must be rank 1.\"\n",
    "\n",
    "\tx = x.view(-1, 1)\n",
    "\treturn torch.cov(x, correction=1)"
   ],
   "id": "9b98169e0ac252dc",
   "outputs": [],
   "execution_count": null
  },
  {
   "metadata": {},
   "cell_type": "code",
   "source": "torch.randn((2048, 2048)).cov()",
   "id": "d3c9728dcc27bce8",
   "outputs": [],
   "execution_count": null
  },
  {
   "metadata": {},
   "cell_type": "code",
   "source": "compute_similarity(torch.randn(2048))",
   "id": "1cfdaf86124de522",
   "outputs": [],
   "execution_count": null
  }
 ],
 "metadata": {
  "kernelspec": {
   "display_name": "Python 3",
   "language": "python",
   "name": "python3"
  },
  "language_info": {
   "codemirror_mode": {
    "name": "ipython",
    "version": 2
   },
   "file_extension": ".py",
   "mimetype": "text/x-python",
   "name": "python",
   "nbconvert_exporter": "python",
   "pygments_lexer": "ipython2",
   "version": "2.7.6"
  }
 },
 "nbformat": 4,
 "nbformat_minor": 5
}

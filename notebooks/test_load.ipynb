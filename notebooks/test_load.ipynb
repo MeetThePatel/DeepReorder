{
 "cells": [
  {
   "metadata": {
    "ExecuteTime": {
     "end_time": "2025-01-29T22:17:27.990173Z",
     "start_time": "2025-01-29T22:17:25.875341Z"
    }
   },
   "cell_type": "code",
   "source": [
    "from torchao.quantization.quant_api import quantize_, int8_weight_only\n",
    "from transformers import AutoModelForCausalLM, AutoTokenizer, TextStreamer\n",
    "\n",
    "from deep_reorder.models import qwen25"
   ],
   "id": "5f1d30e34ed8a942",
   "outputs": [
    {
     "name": "stdout",
     "output_type": "stream",
     "text": [
      "import error: No module named 'triton'\n"
     ]
    }
   ],
   "execution_count": 1
  },
  {
   "metadata": {
    "ExecuteTime": {
     "end_time": "2025-01-29T22:18:30.544974Z",
     "start_time": "2025-01-29T22:17:29.059044Z"
    }
   },
   "cell_type": "code",
   "source": "model = qwen25.load_model(weights_path=\"../build/Qwen2_5-3B.safetensors\", device='mps')",
   "id": "a9c45640cdf62b2e",
   "outputs": [],
   "execution_count": 2
  },
  {
   "metadata": {},
   "cell_type": "code",
   "source": "model.to('mps');",
   "id": "56c7a15c673b13a9",
   "outputs": [],
   "execution_count": null
  },
  {
   "metadata": {
    "ExecuteTime": {
     "end_time": "2025-01-29T22:32:37.186058Z",
     "start_time": "2025-01-29T22:32:37.168868Z"
    }
   },
   "cell_type": "code",
   "source": [
    "def get_model_size(model):\n",
    "    param_size = 0\n",
    "    for param in model.parameters():\n",
    "        param_size += param.nelement() * param.element_size()\n",
    "    return param_size / 1024 ** 3  # Size in GB"
   ],
   "id": "e70d55e3a04b4490",
   "outputs": [],
   "execution_count": 7
  },
  {
   "metadata": {
    "ExecuteTime": {
     "end_time": "2025-01-29T22:32:42.274282Z",
     "start_time": "2025-01-29T22:32:42.265241Z"
    }
   },
   "cell_type": "code",
   "source": "get_model_size(model)",
   "id": "4850a6d9918e4bc6",
   "outputs": [
    {
     "data": {
      "text/plain": [
       "11.496017456054688"
      ]
     },
     "execution_count": 8,
     "metadata": {},
     "output_type": "execute_result"
    }
   ],
   "execution_count": 8
  },
  {
   "metadata": {
    "ExecuteTime": {
     "end_time": "2025-01-29T22:18:30.863876Z",
     "start_time": "2025-01-29T22:18:30.620930Z"
    }
   },
   "cell_type": "code",
   "source": "tokenizer = qwen25.load_tokenizer('../build/vocab.json', '../build/merges.txt', '../build/tokenizer.json')",
   "id": "b8615030f1f3ef3b",
   "outputs": [],
   "execution_count": 3
  },
  {
   "metadata": {
    "ExecuteTime": {
     "end_time": "2025-01-29T22:18:30.957492Z",
     "start_time": "2025-01-29T22:18:30.955910Z"
    }
   },
   "cell_type": "code",
   "source": "params = qwen25.Qwen25GeneratorParams(max_length=10)",
   "id": "9fbec082a72a39fa",
   "outputs": [],
   "execution_count": 4
  },
  {
   "metadata": {
    "ExecuteTime": {
     "end_time": "2025-01-29T22:18:31.007535Z",
     "start_time": "2025-01-29T22:18:31.002228Z"
    }
   },
   "cell_type": "code",
   "source": "generator = qwen25.Qwen25Generator(model, tokenizer, params, device='mps')",
   "id": "36098f79aa42531f",
   "outputs": [],
   "execution_count": 5
  },
  {
   "metadata": {
    "ExecuteTime": {
     "end_time": "2025-01-29T22:27:35.051145Z",
     "start_time": "2025-01-29T22:18:31.081660Z"
    }
   },
   "cell_type": "code",
   "source": "generator.generate(\"Who was the first president of the United States of\")",
   "id": "411c499257c7df0c",
   "outputs": [
    {
     "data": {
      "text/plain": [
       "'Who was the first president of the United States of of of of of of of of of of of'"
      ]
     },
     "execution_count": 6,
     "metadata": {},
     "output_type": "execute_result"
    }
   ],
   "execution_count": 6
  }
 ],
 "metadata": {
  "kernelspec": {
   "display_name": "Python 3",
   "language": "python",
   "name": "python3"
  },
  "language_info": {
   "codemirror_mode": {
    "name": "ipython",
    "version": 2
   },
   "file_extension": ".py",
   "mimetype": "text/x-python",
   "name": "python",
   "nbconvert_exporter": "python",
   "pygments_lexer": "ipython2",
   "version": "2.7.6"
  }
 },
 "nbformat": 4,
 "nbformat_minor": 5
}
